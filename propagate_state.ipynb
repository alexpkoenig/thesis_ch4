{
 "cells": [
  {
   "cell_type": "code",
   "execution_count": 1,
   "id": "0ec658b4",
   "metadata": {},
   "outputs": [],
   "source": [
    "import numpy as np\n",
    "from numpy import sin, cos, arccos, arctan2\n",
    "from numpy.linalg import norm\n",
    "import scipy.special\n",
    "import scipy.integrate\n",
    "import scipy.io\n",
    "import scipy.optimize\n",
    "import matplotlib\n",
    "import matplotlib.pyplot as plt\n",
    "\n",
    "from constants import *\n",
    "from coordinates import ecef_eci, ecef2eci, eci2ecef\n",
    "from force_models import dynamics, accelerations, dynamics_full\n",
    "from plotting import plot_eci, plot_forces, plot_eci_x\n",
    "\n",
    "# Test how long a function call takes\n",
    "# %%timeit\n",
    "# dynamics(init_epoch*86400, s_i)\n",
    "\n",
    "Phi_true = scipy.io.loadmat('./problem_data_files/Phi_21600_0.mat')['PHI_t_120']"
   ]
  },
  {
   "cell_type": "code",
   "execution_count": 13,
   "id": "698bb793",
   "metadata": {},
   "outputs": [],
   "source": [
    "si = s_i5\n",
    "ti = init_epoch5 * 86400\n",
    "t_eval = np.linspace(ti,ti+21600/10,100)\n",
    "\n",
    "t_eval2 = np.linspace(ti,ti-21600/10,100)\n",
    "\n",
    "solution = scipy.integrate.solve_ivp(\n",
    "    lambda t,s: dynamics_full(t,s,['2body',0,0,0,0]),\n",
    "    t_span = [t_eval[0], t_eval[-1]],\n",
    "    t_eval = t_eval,\n",
    "    y0 = np.concatenate([init_state,np.array([1.88])]),\n",
    "    rtol=1e-6,\n",
    "    atol=1e-6\n",
    ")\n",
    "\n",
    "solution2 = scipy.integrate.solve_ivp(\n",
    "    lambda t,s: dynamics_full(t,s,['2body',0,0,0,0]),\n",
    "    t_span = [t_eval2[0], t_eval2[-1]],\n",
    "    t_eval = t_eval2,\n",
    "    y0 = np.concatenate([init_state,np.array([1.88])]),\n",
    "    rtol=1e-6,\n",
    "    atol=1e-6\n",
    ")\n",
    "\n"
   ]
  },
  {
   "cell_type": "code",
   "execution_count": 15,
   "id": "75d697c3",
   "metadata": {},
   "outputs": [
    {
     "data": {
      "text/plain": [
       "<matplotlib.collections.PathCollection at 0x7fb74fe180a0>"
      ]
     },
     "execution_count": 15,
     "metadata": {},
     "output_type": "execute_result"
    },
    {
     "data": {
      "image/png": "[encoded data removed]",
      "text/plain": [
       "<Figure size 432x288 with 1 Axes>"
      ]
     },
     "metadata": {
      "needs_background": "light"
     },
     "output_type": "display_data"
    }
   ],
   "source": [
    "plt.scatter(solution.y[0],solution.y[1])\n",
    "plt.scatter(solution2.y[0],solution2.y[1])"
   ]
  },
  {
   "cell_type": "code",
   "execution_count": null,
   "id": "a83a841a",
   "metadata": {},
   "outputs": [],
   "source": []
  },
  {
   "cell_type": "code",
   "execution_count": 2,
   "id": "af71582a",
   "metadata": {},
   "outputs": [],
   "source": [
    "t_eval = np.arange(init_epoch5*86400, init_epoch5*86400 + 21600 + 60, 60)\n",
    "\n",
    "Phi0 = np.eye(7)\n",
    "init_state = np.concatenate([s_i5, Phi0.flatten()])"
   ]
  },
  {
   "cell_type": "code",
   "execution_count": 3,
   "id": "b5898dc8",
   "metadata": {},
   "outputs": [],
   "source": [
    "# %%timeit\n",
    "# dynamics_full(init_epoch*86400, init_state)"
   ]
  },
  {
   "cell_type": "code",
   "execution_count": 4,
   "id": "2b79ac2b",
   "metadata": {},
   "outputs": [],
   "source": [
    "t_eval = np.arange(init_epoch5*86400, init_epoch5*86400 + 21600 + 60, 60)\n",
    "\n",
    "Phi0 = np.eye(7)\n",
    "init_state = np.concatenate([s_i5, Phi0.flatten()])\n",
    "\n",
    "solution = scipy.integrate.solve_ivp(\n",
    "    lambda t,s: dynamics_full(t,s,['J4',1,1,1,1]),\n",
    "    t_span = [t_eval[0], t_eval[-1]],\n",
    "    t_eval = t_eval,\n",
    "    y0 = np.concatenate([init_state,np.array([1.88])]),\n",
    "    rtol=1e-6,\n",
    "    atol=1e-6\n",
    ")"
   ]
  },
  {
   "cell_type": "code",
   "execution_count": 6,
   "id": "764b1eb2",
   "metadata": {},
   "outputs": [],
   "source": [
    "states = solution.y[:6]\n",
    "phis = solution.y[7:]\n",
    "\n",
    "Phi = phis[:,-1].reshape((7,7))"
   ]
  },
  {
   "cell_type": "code",
   "execution_count": 7,
   "id": "74a32846",
   "metadata": {},
   "outputs": [
    {
     "name": "stderr",
     "output_type": "stream",
     "text": [
      "/tmp/ipykernel_534450/2814432523.py:1: RuntimeWarning: divide by zero encountered in divide\n",
      "  reldiff = np.abs((Phi - Phi_true) / Phi_true)\n",
      "/tmp/ipykernel_534450/2814432523.py:1: RuntimeWarning: invalid value encountered in divide\n",
      "  reldiff = np.abs((Phi - Phi_true) / Phi_true)\n"
     ]
    }
   ],
   "source": [
    "reldiff = np.abs((Phi - Phi_true) / Phi_true)\n",
    "reldiff = np.nan_to_num(reldiff)"
   ]
  },
  {
   "cell_type": "code",
   "execution_count": 8,
   "id": "ea0130bb",
   "metadata": {},
   "outputs": [
    {
     "name": "stderr",
     "output_type": "stream",
     "text": [
      "/tmp/ipykernel_534450/2198894537.py:2: RuntimeWarning: divide by zero encountered in log10\n",
      "  plt.hist(np.nan_to_num(np.log10(reldiff.flatten()),posinf=np.nan, neginf=np.nan),bins=20)\n"
     ]
    },
    {
     "data": {
      "image/png": "[encoded data removed]",
      "text/plain": [
       "<Figure size 600x450 with 1 Axes>"
      ]
     },
     "metadata": {
      "needs_background": "light"
     },
     "output_type": "display_data"
    }
   ],
   "source": [
    "fig = plt.figure(figsize=(4,3),dpi=150)\n",
    "plt.hist(np.nan_to_num(np.log10(reldiff.flatten()),posinf=np.nan, neginf=np.nan),bins=20)\n",
    "plt.ylabel('$\\Phi_{(21600,0)}$ histogram')\n",
    "plt.xlabel('log10(relDiff)')\n",
    "plt.show()"
   ]
  },
  {
   "cell_type": "code",
   "execution_count": 9,
   "id": "ba56dc9c",
   "metadata": {},
   "outputs": [
    {
     "name": "stderr",
     "output_type": "stream",
     "text": [
      "/tmp/ipykernel_534450/3638632900.py:2: RuntimeWarning: divide by zero encountered in log10\n",
      "  color = plt.imshow(np.log10(reldiff))\n"
     ]
    },
    {
     "data": {
      "image/png": "[encoded data removed]",
      "text/plain": [
       "<Figure size 600x600 with 2 Axes>"
      ]
     },
     "metadata": {
      "needs_background": "light"
     },
     "output_type": "display_data"
    }
   ],
   "source": [
    "fig = plt.figure(figsize=(4,4),dpi=150)\n",
    "color = plt.imshow(np.log10(reldiff))\n",
    "plt.colorbar(color,label='log10(relDiff)')\n",
    "plt.title('Relative difference in\\n$\\Phi_{(21600,0)}$ vs truth')\n",
    "plt.show()"
   ]
  },
  {
   "cell_type": "code",
   "execution_count": 9,
   "id": "45e559e3",
   "metadata": {},
   "outputs": [
    {
     "name": "stderr",
     "output_type": "stream",
     "text": [
      "/tmp/ipykernel_355731/2365597133.py:1: RuntimeWarning: divide by zero encountered in log10\n",
      "  plt.imshow(np.log10(np.abs(Phi_true)))\n"
     ]
    },
    {
     "data": {
      "text/plain": [
       "<matplotlib.image.AxesImage at 0x7fd529a8c6d0>"
      ]
     },
     "execution_count": 9,
     "metadata": {},
     "output_type": "execute_result"
    },
    {
     "data": {
      "image/png": "[encoded data removed]",
      "text/plain": [
       "<Figure size 432x288 with 1 Axes>"
      ]
     },
     "metadata": {
      "needs_background": "light"
     },
     "output_type": "display_data"
    }
   ],
   "source": [
    "plt.imshow(np.log10(np.abs(Phi_true)))"
   ]
  },
  {
   "cell_type": "code",
   "execution_count": 15,
   "id": "6c715fd3",
   "metadata": {},
   "outputs": [
    {
     "name": "stderr",
     "output_type": "stream",
     "text": [
      "/tmp/ipykernel_355731/3712433356.py:1: RuntimeWarning: invalid value encountered in divide\n",
      "  color = plt.imshow(np.log10(np.abs((Phi - Phi_true)/Phi_true)))\n",
      "/tmp/ipykernel_355731/3712433356.py:1: RuntimeWarning: divide by zero encountered in log10\n",
      "  color = plt.imshow(np.log10(np.abs((Phi - Phi_true)/Phi_true)))\n"
     ]
    },
    {
     "data": {
      "image/png": "[encoded data removed]",
      "text/plain": [
       "<Figure size 432x288 with 2 Axes>"
      ]
     },
     "metadata": {
      "needs_background": "light"
     },
     "output_type": "display_data"
    }
   ],
   "source": [
    "color = plt.imshow(np.log10(np.abs((Phi - Phi_true)/Phi_true)))\n",
    "plt.colorbar(color)\n",
    "plt.clim(-5,-1)"
   ]
  },
  {
   "cell_type": "code",
   "execution_count": 24,
   "id": "b9ade0eb",
   "metadata": {},
   "outputs": [
    {
     "data": {
      "text/plain": [
       "array([[4.34753628e-04, 3.41869335e-04, 6.28176101e-03],\n",
       "       [1.85269431e-05, 3.99274021e-05, 4.91831952e-03],\n",
       "       [9.47951005e-04, 9.13520175e-04, 1.74115230e-04]])"
      ]
     },
     "execution_count": 24,
     "metadata": {},
     "output_type": "execute_result"
    }
   ],
   "source": [
    "reldiff[:3,:3]"
   ]
  },
  {
   "cell_type": "code",
   "execution_count": 29,
   "id": "ce00c591",
   "metadata": {},
   "outputs": [
    {
     "data": {
      "text/plain": [
       "array([-291819.26493389,  393240.52719181,   14367.15507335])"
      ]
     },
     "execution_count": 29,
     "metadata": {},
     "output_type": "execute_result"
    }
   ],
   "source": [
    "Phi[:3,:3] @ s_i[:3] / 1e3"
   ]
  },
  {
   "cell_type": "code",
   "execution_count": 32,
   "id": "da8bab13",
   "metadata": {},
   "outputs": [
    {
     "data": {
      "text/plain": [
       "array([[-39.32199266, -10.48025801,  -0.17739441],\n",
       "       [ 52.81363751,  14.87665022,   0.29217323],\n",
       "       [  1.92580729,   0.57275419,  -0.91701677]])"
      ]
     },
     "execution_count": 32,
     "metadata": {},
     "output_type": "execute_result"
    }
   ],
   "source": [
    "Phi[:3,:3]"
   ]
  },
  {
   "cell_type": "code",
   "execution_count": null,
   "id": "9a130251",
   "metadata": {},
   "outputs": [],
   "source": []
  }
 ],
 "metadata": {
  "@webio": {
   "lastCommId": null,
   "lastKernelId": null
  },
  "kernelspec": {
   "display_name": "Python 3 (ipykernel)",
   "language": "python",
   "name": "python3"
  },
  "language_info": {
   "codemirror_mode": {
    "name": "ipython",
    "version": 3
   },
   "file_extension": ".py",
   "mimetype": "text/x-python",
   "name": "python",
   "nbconvert_exporter": "python",
   "pygments_lexer": "ipython3",
   "version": "3.9.7"
  }
 },
 "nbformat": 4,
 "nbformat_minor": 5
}
